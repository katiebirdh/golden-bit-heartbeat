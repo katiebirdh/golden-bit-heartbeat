{
 "cells": [
  {
   "cell_type": "markdown",
   "id": "60a96ac2",
   "metadata": {},
   "source": [
    "# Binary‑Breathing Minimal Notebook (v0)\n",
    "Quick test notebook."
   ]
  },
  {
   "cell_type": "code",
   "execution_count": null,
   "id": "fb740f84",
   "metadata": {},
   "outputs": [],
   "source": [
    "print('Hello world')"
   ]
  }
 ],
 "metadata": {},
 "nbformat": 4,
 "nbformat_minor": 5
}
