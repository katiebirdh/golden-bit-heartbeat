{
 "cells": [
  {
   "cell_type": "markdown",
   "id": "bc135dab",
   "metadata": {},
   "source": [
    "# Fine & Golden Autoscan v20\n",
    "*Colab‑ready notebook – last updated 2025-07-14*\n",
    "\n",
    "---\n",
    "## Purpose\n",
    "Run a full delta analysis and clustering workflow on your latest **plateaus** Excel files without any hard‑coded paths or environment‑specific tricks. Point the config at your data, hit **Run all**, and you’re good.\n"
   ]
  },
  {
   "cell_type": "code",
   "execution_count": null,
   "id": "fb2596c2",
   "metadata": {},
   "outputs": [],
   "source": [
    "\n",
    "# ================= CONFIGURATION ==========================\n",
    "VERSION   = 20    # numeric tag that matches your filenames\n",
    "# 🔑 POINT THIS AT THE FOLDER THAT CONTAINS YOUR Excel files\n",
    "# Examples:\n",
    "#   '/content/drive/MyDrive/fine_golden'    (if using Google Drive)\n",
    "#   '/content'                              (if you upload directly in Colab)\n",
    "DATA_DIR = ''      # <-- EDIT ME\n",
    "# Distance metric for clustering\n",
    "DIST_METRIC = 'euclidean'     # 'euclidean', 'manhattan', 'cosine', ...\n",
    "BANDWIDTH   = 0.001           # ε / bandwidth for DBSCAN / MeanShift\n",
    "# ==========================================================\n"
   ]
  },
  {
   "cell_type": "code",
   "execution_count": null,
   "id": "34a0146c",
   "metadata": {},
   "outputs": [],
   "source": [
    "\n",
    "# ─── OPTIONAL: Mount Google Drive ─────────────────────────\n",
    "# Skip if you’ve already mounted or are uploading directly.\n",
    "try:\n",
    "    import google.colab\n",
    "    from google.colab import drive\n",
    "    drive.mount('/content/drive')\n",
    "    print('✔ Google Drive mounted')\n",
    "except ModuleNotFoundError:\n",
    "    print('Not running in Colab or Drive already mounted – skipping.')\n",
    "\n",
    "# ─── OPTIONAL: Manual file upload (fallback) ──────────────\n",
    "# If you prefer to upload the Excel files directly, uncomment:\n",
    "# from google.colab import files; files.upload()\n"
   ]
  },
  {
   "cell_type": "code",
   "execution_count": null,
   "id": "d0b9c9b9",
   "metadata": {},
   "outputs": [],
   "source": [
    "\n",
    "import pandas as pd\n",
    "import numpy as np\n",
    "import matplotlib.pyplot as plt\n",
    "from sklearn.cluster import DBSCAN, MeanShift\n",
    "from pathlib import Path\n"
   ]
  },
  {
   "cell_type": "code",
   "execution_count": null,
   "id": "2fec8648",
   "metadata": {},
   "outputs": [],
   "source": [
    "\n",
    "# ─── CONSTANTS ────────────────────────────────────────────\n",
    "ALPHA_INV = 137.035999084  # latest CODATA inverse fine‑structure constant\n",
    "PHI       = (1 + 5**0.5) / 2\n",
    "SQRT2     = 2**0.5\n",
    "EULER_E   = np.e\n",
    "\n",
    "def delta(x, ref=ALPHA_INV):\n",
    "    \"\"\"Absolute fractional difference between x and ref.\"\"\"\n",
    "    return abs(x - ref) / ref\n"
   ]
  },
  {
   "cell_type": "code",
   "execution_count": null,
   "id": "34ff5a84",
   "metadata": {},
   "outputs": [],
   "source": [
    "\n",
    "def load_plateau_dfs(data_dir:str, version:int):\n",
    "    \"\"\"Return raw_df, ops_df, or (None, None) if not found.\"\"\"\n",
    "    raw_path = Path(data_dir) / f'plateaus_raw_v{version}.xlsx'\n",
    "    ops_path = Path(data_dir) / f'plateaus_ops_v{version}.xlsx'\n",
    "    for p in [raw_path, ops_path]:\n",
    "        if not p.exists():\n",
    "            print(f'⚠ File not found: {p}.\\n'\n",
    "                  '  → Check DATA_DIR, VERSION, or upload the file.')\n",
    "            return None, None\n",
    "    return pd.read_excel(raw_path), pd.read_excel(ops_path)\n",
    "\n",
    "raw_df, ops_df = load_plateau_dfs(DATA_DIR, VERSION)\n",
    "if raw_df is None:\n",
    "    raise SystemExit('❌ Required files missing – fix & re‑run this cell.')\n",
    "print(f'✔ Loaded raw {raw_df.shape} and ops {ops_df.shape}')\n"
   ]
  },
  {
   "cell_type": "code",
   "execution_count": null,
   "id": "7ace4d94",
   "metadata": {},
   "outputs": [],
   "source": [
    "\n",
    "# ─── DELTA ANALYSIS ───────────────────────────────────────\n",
    "NUM_COL = 'slice'  # update if your numeric column is named differently\n",
    "if NUM_COL not in ops_df.columns:\n",
    "    raise KeyError(f'Column {NUM_COL!r} not found in ops_df.')\n",
    "\n",
    "ops_df['delta_alpha'] = ops_df[NUM_COL].apply(lambda x: delta(x, ALPHA_INV))\n",
    "ops_df.head()\n"
   ]
  },
  {
   "cell_type": "code",
   "execution_count": null,
   "id": "208d9efc",
   "metadata": {},
   "outputs": [],
   "source": [
    "\n",
    "# ─── CLUSTERING ───────────────────────────────────────────\n",
    "vals = ops_df[NUM_COL].values.reshape(-1, 1)\n",
    "\n",
    "if DIST_METRIC in {'euclidean', 'manhattan'}:\n",
    "    model = DBSCAN(eps=BANDWIDTH, metric=DIST_METRIC, min_samples=2).fit(vals)\n",
    "else:\n",
    "    model = MeanShift(bandwidth=BANDWIDTH).fit(vals)\n",
    "\n",
    "ops_df['cluster'] = model.labels_\n",
    "print(ops_df['cluster'].value_counts())\n"
   ]
  },
  {
   "cell_type": "code",
   "execution_count": null,
   "id": "fb94accb",
   "metadata": {},
   "outputs": [],
   "source": [
    "\n",
    "plt.figure(figsize=(10, 5))\n",
    "plt.scatter(ops_df.index, ops_df[NUM_COL], c=ops_df['cluster'])\n",
    "plt.title('Clustered slices')\n",
    "plt.xlabel('Index')\n",
    "plt.ylabel(NUM_COL)\n",
    "plt.show()\n"
   ]
  },
  {
   "cell_type": "code",
   "execution_count": null,
   "id": "069668ee",
   "metadata": {},
   "outputs": [],
   "source": [
    "\n",
    "out_path = Path(DATA_DIR) / f'ops_with_clusters_v{VERSION}.csv'\n",
    "ops_df.to_csv(out_path, index=False)\n",
    "print(f'✔ Results saved to {out_path}')\n"
   ]
  }
 ],
 "metadata": {},
 "nbformat": 4,
 "nbformat_minor": 5
}
