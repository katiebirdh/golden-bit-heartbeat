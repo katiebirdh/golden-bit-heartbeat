{
 "cells": [
  {
   "cell_type": "markdown",
   "id": "10c265b1",
   "metadata": {},
   "source": [
    "# High‑precision greedy Fibonacci expansion (150‑bit, 50 slices)  \n",
    "*Generated 2025-07-12*  \n",
    "\n",
    "This notebook reproduces the greedy nested‑denominator algorithm with:  \n",
    "\n",
    "* **Precision:** 150 bits (~45 decimal digits) via `mpmath.mp.prec = 150`  \n",
    "* **Scaling:** $p = 3$ (denominator $27F_n$)  \n",
    "* **Outer index:** $n_0 = 55$  \n",
    "* **Depth:** 50 nested slices  \n",
    "\n",
    "It records each residual $\\delta_k$ and prints the first index $m_k$ chosen at every step.\n"
   ]
  },
  {
   "cell_type": "code",
   "execution_count": null,
   "id": "b8ca397c",
   "metadata": {},
   "outputs": [],
   "source": [
    "import mpmath as mp\n",
    "mp.mp.prec = 150   # 150-bit precision (~45 d.p.)\n",
    "\n",
    "alpha_inv = mp.mpf('137.035999084')\n",
    "T = mp.mpf('1e-4') * alpha_inv\n",
    "\n",
    "def fib(n):\n",
    "    a, b = mp.mpf(0), mp.mpf(1)\n",
    "    for _ in range(n):\n",
    "        a, b = b, a + b\n",
    "    return a\n"
   ]
  },
  {
   "cell_type": "code",
   "execution_count": null,
   "id": "f98279a6",
   "metadata": {},
   "outputs": [],
   "source": [
    "# PARAMETERS\n",
    "P_EXPONENT = 3     # denominator factor 27\n",
    "N0 = 55            # outermost Fibonacci index\n",
    "DEPTH = 50         # number of nested slices\n"
   ]
  },
  {
   "cell_type": "code",
   "execution_count": null,
   "id": "c611d2c5",
   "metadata": {},
   "outputs": [],
   "source": [
    "\n",
    "denom = mp.power(3, P_EXPONENT)\n",
    "residuals = []\n",
    "m_seq = []\n",
    "\n",
    "# outer slice\n",
    "G0 = 1/(denom * fib(N0))\n",
    "delta = T - G0\n",
    "residuals.append(delta)\n",
    "print(f\"Level 0: n={N0}, G0={G0!r}, delta={delta!r}\\n\")\n",
    "\n",
    "current = delta\n",
    "for k in range(1, DEPTH+1):\n",
    "    best_m = None\n",
    "    best_diff = None\n",
    "    for m in range(1, 400):   # search range\n",
    "        cand = 1/(denom * fib(m))\n",
    "        diff = abs(cand - current)\n",
    "        if best_diff is None or diff < best_diff:\n",
    "            best_diff = diff\n",
    "            best_m = m\n",
    "    m_seq.append(best_m)\n",
    "    slice_val = 1/(denom * fib(best_m))\n",
    "    current -= slice_val\n",
    "    residuals.append(current)\n",
    "    print(f\"Level {k:2d}: m={best_m:3d}, slice={slice_val!r}, delta={current!r}\")\n",
    "\n",
    "print(\"\\nGreedy sequence:\", m_seq)\n"
   ]
  }
 ],
 "metadata": {},
 "nbformat": 4,
 "nbformat_minor": 5
}
